{
 "cells": [
  {
   "cell_type": "code",
   "execution_count": null,
   "metadata": {
    "id": "KS1Nkc92HyOC"
   },
   "outputs": [],
   "source": [
    "import numpy as np\n",
    "import pandas as pd \n",
    "import matplotlib.pyplot as plt\n",
    "from matplotlib_venn import venn3_unweighted as venn3"
   ]
  },
  {
   "cell_type": "markdown",
   "metadata": {
    "id": "3t6JBxYUtmDd"
   },
   "source": [
    "# Extracting data"
   ]
  },
  {
   "cell_type": "code",
   "execution_count": null,
   "metadata": {
    "colab": {
     "base_uri": "https://localhost:8080/",
     "height": 124
    },
    "id": "p5hqLBZA6qX7",
    "outputId": "438523dc-d88f-42b1-ceb0-2cabd25da5cf"
   },
   "outputs": [
    {
     "name": "stdout",
     "output_type": "stream",
     "text": [
      "Go to this URL in a browser: https://accounts.google.com/o/oauth2/auth?client_id=947318989803-6bn6qk8qdgf4n4g3pfee6491hc0brc4i.apps.googleusercontent.com&redirect_uri=urn%3aietf%3awg%3aoauth%3a2.0%3aoob&response_type=code&scope=email%20https%3a%2f%2fwww.googleapis.com%2fauth%2fdocs.test%20https%3a%2f%2fwww.googleapis.com%2fauth%2fdrive%20https%3a%2f%2fwww.googleapis.com%2fauth%2fdrive.photos.readonly%20https%3a%2f%2fwww.googleapis.com%2fauth%2fpeopleapi.readonly\n",
      "\n",
      "Enter your authorization code:\n",
      "··········\n",
      "Mounted at /content/gdrive\n"
     ]
    }
   ],
   "source": [
    "from google.colab import drive\n",
    "drive.mount('/content/gdrive', force_remount=True)\n",
    "root_dir = \"/content/gdrive/My Drive/idp-ego/GUI/algorithms/trio/\"\n",
    "data_dir = root_dir + 'data/'"
   ]
  },
  {
   "cell_type": "code",
   "execution_count": null,
   "metadata": {
    "colab": {
     "base_uri": "https://localhost:8080/",
     "height": 226
    },
    "id": "M4TTLDtYMLXJ",
    "outputId": "9c2d35b6-6ac8-4888-93c1-adff277bb6d0"
   },
   "outputs": [
    {
     "data": {
      "text/html": [
       "<div>\n",
       "<style scoped>\n",
       "    .dataframe tbody tr th:only-of-type {\n",
       "        vertical-align: middle;\n",
       "    }\n",
       "\n",
       "    .dataframe tbody tr th {\n",
       "        vertical-align: top;\n",
       "    }\n",
       "\n",
       "    .dataframe thead th {\n",
       "        text-align: right;\n",
       "    }\n",
       "</style>\n",
       "<table border=\"1\" class=\"dataframe\">\n",
       "  <thead>\n",
       "    <tr style=\"text-align: right;\">\n",
       "      <th></th>\n",
       "      <th>chr</th>\n",
       "      <th>pos</th>\n",
       "      <th>ID</th>\n",
       "      <th>refNt</th>\n",
       "      <th>altNt</th>\n",
       "      <th>function</th>\n",
       "      <th>gene</th>\n",
       "      <th>transcrptID</th>\n",
       "      <th>is_CCDS</th>\n",
       "      <th>is_RefSeq</th>\n",
       "      <th>AAChange</th>\n",
       "      <th>AnnoOther</th>\n",
       "      <th>zygo</th>\n",
       "      <th>BL</th>\n",
       "      <th>gnomADGenomes_AF</th>\n",
       "      <th>gnomADEx_AF</th>\n",
       "      <th>ESP6500All_AF</th>\n",
       "      <th>gnomADEx_AFR_AF</th>\n",
       "      <th>gnomADEx_AMR_AF</th>\n",
       "      <th>gnomADEx_EAS_AF</th>\n",
       "      <th>gnomADEx_FIN_AF</th>\n",
       "      <th>gnomADEx_NFE_AF</th>\n",
       "      <th>gnomADEx_OTH_AF</th>\n",
       "      <th>gnomADEx_SAS_AF</th>\n",
       "      <th>MiddleEast_AF</th>\n",
       "      <th>Sift_Pred</th>\n",
       "      <th>Polyphen2HVAR_Pred</th>\n",
       "      <th>CADD_Phred_V1.3</th>\n",
       "      <th>MSC_99%</th>\n",
       "      <th>MSC_99%_Pred</th>\n",
       "      <th>GDI</th>\n",
       "      <th>varQual</th>\n",
       "      <th>AD</th>\n",
       "      <th>DP</th>\n",
       "      <th>MQ</th>\n",
       "      <th>QD</th>\n",
       "      <th>Clinvar_AlleleID</th>\n",
       "      <th>KnownPID</th>\n",
       "      <th>PredictedPID</th>\n",
       "      <th>P-value</th>\n",
       "      <th>Route</th>\n",
       "      <th>gnomADGen_SegDup</th>\n",
       "    </tr>\n",
       "  </thead>\n",
       "  <tbody>\n",
       "    <tr>\n",
       "      <th>0</th>\n",
       "      <td>1</td>\n",
       "      <td>13273</td>\n",
       "      <td>rs531730856</td>\n",
       "      <td>G</td>\n",
       "      <td>C</td>\n",
       "      <td>nc_mirna</td>\n",
       "      <td>DDX11L1</td>\n",
       "      <td>ENST00000456328</td>\n",
       "      <td>no</td>\n",
       "      <td>no</td>\n",
       "      <td>NaN</td>\n",
       "      <td>intron(DDX11L1:ENST00000518655);nc_mirna(DDX11...</td>\n",
       "      <td>het</td>\n",
       "      <td>no</td>\n",
       "      <td>0.102748</td>\n",
       "      <td>NaN</td>\n",
       "      <td>NaN</td>\n",
       "      <td>NaN</td>\n",
       "      <td>NaN</td>\n",
       "      <td>NaN</td>\n",
       "      <td>NaN</td>\n",
       "      <td>NaN</td>\n",
       "      <td>NaN</td>\n",
       "      <td>NaN</td>\n",
       "      <td>NaN</td>\n",
       "      <td>NaN</td>\n",
       "      <td>NaN</td>\n",
       "      <td>2.42</td>\n",
       "      <td>NaN</td>\n",
       "      <td>NaN</td>\n",
       "      <td>NaN</td>\n",
       "      <td>190</td>\n",
       "      <td>13,11</td>\n",
       "      <td>24</td>\n",
       "      <td>25.1</td>\n",
       "      <td>7.9</td>\n",
       "      <td>NaN</td>\n",
       "      <td>NO</td>\n",
       "      <td>NO</td>\n",
       "      <td>NaN</td>\n",
       "      <td>NaN</td>\n",
       "      <td>yes</td>\n",
       "    </tr>\n",
       "    <tr>\n",
       "      <th>1</th>\n",
       "      <td>1</td>\n",
       "      <td>13417</td>\n",
       "      <td>rs777038595</td>\n",
       "      <td>C</td>\n",
       "      <td>CGAGA</td>\n",
       "      <td>nc_mirna</td>\n",
       "      <td>DDX11L1</td>\n",
       "      <td>ENST00000456328</td>\n",
       "      <td>no</td>\n",
       "      <td>no</td>\n",
       "      <td>NaN</td>\n",
       "      <td>intron(DDX11L1:ENST00000450305);nc_mirna(DDX11...</td>\n",
       "      <td>het</td>\n",
       "      <td>no</td>\n",
       "      <td>0.066620</td>\n",
       "      <td>0.112528</td>\n",
       "      <td>NaN</td>\n",
       "      <td>0.015301</td>\n",
       "      <td>0.0</td>\n",
       "      <td>0.055929</td>\n",
       "      <td>0.175127</td>\n",
       "      <td>0.128360</td>\n",
       "      <td>0.134288</td>\n",
       "      <td>0.156572</td>\n",
       "      <td>NaN</td>\n",
       "      <td>NaN</td>\n",
       "      <td>NaN</td>\n",
       "      <td>4.01</td>\n",
       "      <td>NaN</td>\n",
       "      <td>NaN</td>\n",
       "      <td>NaN</td>\n",
       "      <td>17</td>\n",
       "      <td>10,2</td>\n",
       "      <td>12</td>\n",
       "      <td>27.8</td>\n",
       "      <td>1.2</td>\n",
       "      <td>NaN</td>\n",
       "      <td>NO</td>\n",
       "      <td>NO</td>\n",
       "      <td>NaN</td>\n",
       "      <td>NaN</td>\n",
       "      <td>yes</td>\n",
       "    </tr>\n",
       "    <tr>\n",
       "      <th>2</th>\n",
       "      <td>1</td>\n",
       "      <td>13656</td>\n",
       "      <td>rs1263393206</td>\n",
       "      <td>CAG</td>\n",
       "      <td>C</td>\n",
       "      <td>essential_splicing</td>\n",
       "      <td>DDX11L1</td>\n",
       "      <td>ENST00000518655</td>\n",
       "      <td>no</td>\n",
       "      <td>no</td>\n",
       "      <td>NaN</td>\n",
       "      <td>nc_mirna(DDX11L1:ENST00000456328);nc_mirna(DDX...</td>\n",
       "      <td>het</td>\n",
       "      <td>no</td>\n",
       "      <td>0.489766</td>\n",
       "      <td>0.029533</td>\n",
       "      <td>NaN</td>\n",
       "      <td>0.006352</td>\n",
       "      <td>0.0</td>\n",
       "      <td>0.003094</td>\n",
       "      <td>0.061983</td>\n",
       "      <td>0.048217</td>\n",
       "      <td>0.030691</td>\n",
       "      <td>0.035543</td>\n",
       "      <td>NaN</td>\n",
       "      <td>NaN</td>\n",
       "      <td>NaN</td>\n",
       "      <td>5.77</td>\n",
       "      <td>NaN</td>\n",
       "      <td>NaN</td>\n",
       "      <td>NaN</td>\n",
       "      <td>35</td>\n",
       "      <td>4,2</td>\n",
       "      <td>6</td>\n",
       "      <td>23.5</td>\n",
       "      <td>5.8</td>\n",
       "      <td>NaN</td>\n",
       "      <td>NO</td>\n",
       "      <td>NO</td>\n",
       "      <td>NaN</td>\n",
       "      <td>NaN</td>\n",
       "      <td>yes</td>\n",
       "    </tr>\n",
       "    <tr>\n",
       "      <th>3</th>\n",
       "      <td>1</td>\n",
       "      <td>15211</td>\n",
       "      <td>rs78601809</td>\n",
       "      <td>T</td>\n",
       "      <td>G</td>\n",
       "      <td>intron</td>\n",
       "      <td>WASH7P</td>\n",
       "      <td>ENST00000438504</td>\n",
       "      <td>no</td>\n",
       "      <td>no</td>\n",
       "      <td>NaN</td>\n",
       "      <td>downstream(DDX11L1:ENST00000456328);downstream...</td>\n",
       "      <td>hom</td>\n",
       "      <td>no</td>\n",
       "      <td>0.609542</td>\n",
       "      <td>NaN</td>\n",
       "      <td>NaN</td>\n",
       "      <td>NaN</td>\n",
       "      <td>NaN</td>\n",
       "      <td>NaN</td>\n",
       "      <td>NaN</td>\n",
       "      <td>NaN</td>\n",
       "      <td>NaN</td>\n",
       "      <td>NaN</td>\n",
       "      <td>NaN</td>\n",
       "      <td>NaN</td>\n",
       "      <td>NaN</td>\n",
       "      <td>2.94</td>\n",
       "      <td>NaN</td>\n",
       "      <td>NaN</td>\n",
       "      <td>NaN</td>\n",
       "      <td>128</td>\n",
       "      <td>0,6</td>\n",
       "      <td>6</td>\n",
       "      <td>25.0</td>\n",
       "      <td>21.3</td>\n",
       "      <td>NaN</td>\n",
       "      <td>NO</td>\n",
       "      <td>NO</td>\n",
       "      <td>NaN</td>\n",
       "      <td>NaN</td>\n",
       "      <td>yes</td>\n",
       "    </tr>\n",
       "    <tr>\n",
       "      <th>4</th>\n",
       "      <td>1</td>\n",
       "      <td>69511</td>\n",
       "      <td>rs75062661</td>\n",
       "      <td>A</td>\n",
       "      <td>G</td>\n",
       "      <td>missense</td>\n",
       "      <td>OR4F5</td>\n",
       "      <td>ENST00000335137</td>\n",
       "      <td>yes</td>\n",
       "      <td>yes</td>\n",
       "      <td>p.Thr141Ala</td>\n",
       "      <td>NaN</td>\n",
       "      <td>hom</td>\n",
       "      <td>no</td>\n",
       "      <td>0.843526</td>\n",
       "      <td>0.949691</td>\n",
       "      <td>0.240234</td>\n",
       "      <td>0.607496</td>\n",
       "      <td>0.0</td>\n",
       "      <td>0.999439</td>\n",
       "      <td>0.991577</td>\n",
       "      <td>0.972624</td>\n",
       "      <td>0.950621</td>\n",
       "      <td>0.985395</td>\n",
       "      <td>159:76:429</td>\n",
       "      <td>.,T</td>\n",
       "      <td>B</td>\n",
       "      <td>0.05</td>\n",
       "      <td>2.31</td>\n",
       "      <td>LOW</td>\n",
       "      <td>2.32</td>\n",
       "      <td>1237</td>\n",
       "      <td>0,43</td>\n",
       "      <td>43</td>\n",
       "      <td>31.2</td>\n",
       "      <td>28.8</td>\n",
       "      <td>NaN</td>\n",
       "      <td>NO</td>\n",
       "      <td>NO</td>\n",
       "      <td>NaN</td>\n",
       "      <td>NaN</td>\n",
       "      <td>yes</td>\n",
       "    </tr>\n",
       "  </tbody>\n",
       "</table>\n",
       "</div>"
      ],
      "text/plain": [
       "  chr    pos            ID refNt  ... PredictedPID P-value Route gnomADGen_SegDup\n",
       "0   1  13273   rs531730856     G  ...           NO     NaN   NaN              yes\n",
       "1   1  13417   rs777038595     C  ...           NO     NaN   NaN              yes\n",
       "2   1  13656  rs1263393206   CAG  ...           NO     NaN   NaN              yes\n",
       "3   1  15211    rs78601809     T  ...           NO     NaN   NaN              yes\n",
       "4   1  69511    rs75062661     A  ...           NO     NaN   NaN              yes\n",
       "\n",
       "[5 rows x 42 columns]"
      ]
     },
     "execution_count": 4,
     "metadata": {
      "tags": []
     },
     "output_type": "execute_result"
    }
   ],
   "source": [
    "# path = Path(base_dir + 'data/bears')\n",
    "# dest.mkdir(parents=True, exist_ok=True) I want only existing folders\n",
    "\n",
    "e1=pd.read_csv(data_dir+'COL1538-V4-2.csv',low_memory=0)\n",
    "e1.head(5)\n"
   ]
  },
  {
   "cell_type": "code",
   "execution_count": null,
   "metadata": {
    "colab": {
     "base_uri": "https://localhost:8080/",
     "height": 226
    },
    "id": "cd8homLDNQNF",
    "outputId": "ae071423-0ff7-4a6f-b3a4-983e870490f0"
   },
   "outputs": [
    {
     "data": {
      "text/html": [
       "<div>\n",
       "<style scoped>\n",
       "    .dataframe tbody tr th:only-of-type {\n",
       "        vertical-align: middle;\n",
       "    }\n",
       "\n",
       "    .dataframe tbody tr th {\n",
       "        vertical-align: top;\n",
       "    }\n",
       "\n",
       "    .dataframe thead th {\n",
       "        text-align: right;\n",
       "    }\n",
       "</style>\n",
       "<table border=\"1\" class=\"dataframe\">\n",
       "  <thead>\n",
       "    <tr style=\"text-align: right;\">\n",
       "      <th></th>\n",
       "      <th>chr</th>\n",
       "      <th>pos</th>\n",
       "      <th>ID</th>\n",
       "      <th>refNt</th>\n",
       "      <th>altNt</th>\n",
       "      <th>function</th>\n",
       "      <th>gene</th>\n",
       "      <th>transcrptID</th>\n",
       "      <th>is_CCDS</th>\n",
       "      <th>is_RefSeq</th>\n",
       "      <th>AAChange</th>\n",
       "      <th>AnnoOther</th>\n",
       "      <th>zygo</th>\n",
       "      <th>BL</th>\n",
       "      <th>gnomADGenomes_AF</th>\n",
       "      <th>gnomADEx_AF</th>\n",
       "      <th>ESP6500All_AF</th>\n",
       "      <th>gnomADEx_AFR_AF</th>\n",
       "      <th>gnomADEx_AMR_AF</th>\n",
       "      <th>gnomADEx_EAS_AF</th>\n",
       "      <th>gnomADEx_FIN_AF</th>\n",
       "      <th>gnomADEx_NFE_AF</th>\n",
       "      <th>gnomADEx_OTH_AF</th>\n",
       "      <th>gnomADEx_SAS_AF</th>\n",
       "      <th>MiddleEast_AF</th>\n",
       "      <th>Sift_Pred</th>\n",
       "      <th>Polyphen2HVAR_Pred</th>\n",
       "      <th>CADD_Phred_V1.3</th>\n",
       "      <th>MSC_99%</th>\n",
       "      <th>MSC_99%_Pred</th>\n",
       "      <th>GDI</th>\n",
       "      <th>varQual</th>\n",
       "      <th>AD</th>\n",
       "      <th>DP</th>\n",
       "      <th>MQ</th>\n",
       "      <th>QD</th>\n",
       "      <th>Clinvar_AlleleID</th>\n",
       "      <th>KnownPID</th>\n",
       "      <th>PredictedPID</th>\n",
       "      <th>P-value</th>\n",
       "      <th>Route</th>\n",
       "      <th>gnomADGen_SegDup</th>\n",
       "    </tr>\n",
       "  </thead>\n",
       "  <tbody>\n",
       "    <tr>\n",
       "      <th>0</th>\n",
       "      <td>1</td>\n",
       "      <td>13273</td>\n",
       "      <td>rs531730856</td>\n",
       "      <td>G</td>\n",
       "      <td>C</td>\n",
       "      <td>nc_mirna</td>\n",
       "      <td>DDX11L1</td>\n",
       "      <td>ENST00000456328</td>\n",
       "      <td>no</td>\n",
       "      <td>no</td>\n",
       "      <td>NaN</td>\n",
       "      <td>intron(DDX11L1:ENST00000518655);nc_mirna(DDX11...</td>\n",
       "      <td>het</td>\n",
       "      <td>no</td>\n",
       "      <td>0.102748</td>\n",
       "      <td>NaN</td>\n",
       "      <td>NaN</td>\n",
       "      <td>NaN</td>\n",
       "      <td>NaN</td>\n",
       "      <td>NaN</td>\n",
       "      <td>NaN</td>\n",
       "      <td>NaN</td>\n",
       "      <td>NaN</td>\n",
       "      <td>NaN</td>\n",
       "      <td>NaN</td>\n",
       "      <td>NaN</td>\n",
       "      <td>NaN</td>\n",
       "      <td>2.42</td>\n",
       "      <td>NaN</td>\n",
       "      <td>NaN</td>\n",
       "      <td>NaN</td>\n",
       "      <td>190</td>\n",
       "      <td>13,11</td>\n",
       "      <td>24</td>\n",
       "      <td>25.1</td>\n",
       "      <td>7.9</td>\n",
       "      <td>NaN</td>\n",
       "      <td>NO</td>\n",
       "      <td>NO</td>\n",
       "      <td>NaN</td>\n",
       "      <td>NaN</td>\n",
       "      <td>yes</td>\n",
       "    </tr>\n",
       "    <tr>\n",
       "      <th>1</th>\n",
       "      <td>1</td>\n",
       "      <td>13417</td>\n",
       "      <td>rs777038595</td>\n",
       "      <td>C</td>\n",
       "      <td>CGAGA</td>\n",
       "      <td>nc_mirna</td>\n",
       "      <td>DDX11L1</td>\n",
       "      <td>ENST00000456328</td>\n",
       "      <td>no</td>\n",
       "      <td>no</td>\n",
       "      <td>NaN</td>\n",
       "      <td>intron(DDX11L1:ENST00000450305);nc_mirna(DDX11...</td>\n",
       "      <td>het</td>\n",
       "      <td>no</td>\n",
       "      <td>0.066620</td>\n",
       "      <td>0.112528</td>\n",
       "      <td>NaN</td>\n",
       "      <td>0.015301</td>\n",
       "      <td>0.0</td>\n",
       "      <td>0.055929</td>\n",
       "      <td>0.175127</td>\n",
       "      <td>0.128360</td>\n",
       "      <td>0.134288</td>\n",
       "      <td>0.156572</td>\n",
       "      <td>NaN</td>\n",
       "      <td>NaN</td>\n",
       "      <td>NaN</td>\n",
       "      <td>4.01</td>\n",
       "      <td>NaN</td>\n",
       "      <td>NaN</td>\n",
       "      <td>NaN</td>\n",
       "      <td>17</td>\n",
       "      <td>10,2</td>\n",
       "      <td>12</td>\n",
       "      <td>27.8</td>\n",
       "      <td>1.2</td>\n",
       "      <td>NaN</td>\n",
       "      <td>NO</td>\n",
       "      <td>NO</td>\n",
       "      <td>NaN</td>\n",
       "      <td>NaN</td>\n",
       "      <td>yes</td>\n",
       "    </tr>\n",
       "    <tr>\n",
       "      <th>2</th>\n",
       "      <td>1</td>\n",
       "      <td>13656</td>\n",
       "      <td>rs1263393206</td>\n",
       "      <td>CAG</td>\n",
       "      <td>C</td>\n",
       "      <td>essential_splicing</td>\n",
       "      <td>DDX11L1</td>\n",
       "      <td>ENST00000518655</td>\n",
       "      <td>no</td>\n",
       "      <td>no</td>\n",
       "      <td>NaN</td>\n",
       "      <td>nc_mirna(DDX11L1:ENST00000456328);nc_mirna(DDX...</td>\n",
       "      <td>het</td>\n",
       "      <td>no</td>\n",
       "      <td>0.489766</td>\n",
       "      <td>0.029533</td>\n",
       "      <td>NaN</td>\n",
       "      <td>0.006352</td>\n",
       "      <td>0.0</td>\n",
       "      <td>0.003094</td>\n",
       "      <td>0.061983</td>\n",
       "      <td>0.048217</td>\n",
       "      <td>0.030691</td>\n",
       "      <td>0.035543</td>\n",
       "      <td>NaN</td>\n",
       "      <td>NaN</td>\n",
       "      <td>NaN</td>\n",
       "      <td>5.77</td>\n",
       "      <td>NaN</td>\n",
       "      <td>NaN</td>\n",
       "      <td>NaN</td>\n",
       "      <td>35</td>\n",
       "      <td>4,2</td>\n",
       "      <td>6</td>\n",
       "      <td>23.5</td>\n",
       "      <td>5.8</td>\n",
       "      <td>NaN</td>\n",
       "      <td>NO</td>\n",
       "      <td>NO</td>\n",
       "      <td>NaN</td>\n",
       "      <td>NaN</td>\n",
       "      <td>yes</td>\n",
       "    </tr>\n",
       "    <tr>\n",
       "      <th>3</th>\n",
       "      <td>1</td>\n",
       "      <td>15211</td>\n",
       "      <td>rs78601809</td>\n",
       "      <td>T</td>\n",
       "      <td>G</td>\n",
       "      <td>intron</td>\n",
       "      <td>WASH7P</td>\n",
       "      <td>ENST00000438504</td>\n",
       "      <td>no</td>\n",
       "      <td>no</td>\n",
       "      <td>NaN</td>\n",
       "      <td>downstream(DDX11L1:ENST00000456328);downstream...</td>\n",
       "      <td>hom</td>\n",
       "      <td>no</td>\n",
       "      <td>0.609542</td>\n",
       "      <td>NaN</td>\n",
       "      <td>NaN</td>\n",
       "      <td>NaN</td>\n",
       "      <td>NaN</td>\n",
       "      <td>NaN</td>\n",
       "      <td>NaN</td>\n",
       "      <td>NaN</td>\n",
       "      <td>NaN</td>\n",
       "      <td>NaN</td>\n",
       "      <td>NaN</td>\n",
       "      <td>NaN</td>\n",
       "      <td>NaN</td>\n",
       "      <td>2.94</td>\n",
       "      <td>NaN</td>\n",
       "      <td>NaN</td>\n",
       "      <td>NaN</td>\n",
       "      <td>128</td>\n",
       "      <td>0,6</td>\n",
       "      <td>6</td>\n",
       "      <td>25.0</td>\n",
       "      <td>21.3</td>\n",
       "      <td>NaN</td>\n",
       "      <td>NO</td>\n",
       "      <td>NO</td>\n",
       "      <td>NaN</td>\n",
       "      <td>NaN</td>\n",
       "      <td>yes</td>\n",
       "    </tr>\n",
       "    <tr>\n",
       "      <th>4</th>\n",
       "      <td>1</td>\n",
       "      <td>69511</td>\n",
       "      <td>rs75062661</td>\n",
       "      <td>A</td>\n",
       "      <td>G</td>\n",
       "      <td>missense</td>\n",
       "      <td>OR4F5</td>\n",
       "      <td>ENST00000335137</td>\n",
       "      <td>yes</td>\n",
       "      <td>yes</td>\n",
       "      <td>p.Thr141Ala</td>\n",
       "      <td>NaN</td>\n",
       "      <td>hom</td>\n",
       "      <td>no</td>\n",
       "      <td>0.843526</td>\n",
       "      <td>0.949691</td>\n",
       "      <td>0.240234</td>\n",
       "      <td>0.607496</td>\n",
       "      <td>0.0</td>\n",
       "      <td>0.999439</td>\n",
       "      <td>0.991577</td>\n",
       "      <td>0.972624</td>\n",
       "      <td>0.950621</td>\n",
       "      <td>0.985395</td>\n",
       "      <td>159:76:429</td>\n",
       "      <td>.,T</td>\n",
       "      <td>B</td>\n",
       "      <td>0.05</td>\n",
       "      <td>2.31</td>\n",
       "      <td>LOW</td>\n",
       "      <td>2.32</td>\n",
       "      <td>1237</td>\n",
       "      <td>0,43</td>\n",
       "      <td>43</td>\n",
       "      <td>31.2</td>\n",
       "      <td>28.8</td>\n",
       "      <td>NaN</td>\n",
       "      <td>NO</td>\n",
       "      <td>NO</td>\n",
       "      <td>NaN</td>\n",
       "      <td>NaN</td>\n",
       "      <td>yes</td>\n",
       "    </tr>\n",
       "  </tbody>\n",
       "</table>\n",
       "</div>"
      ],
      "text/plain": [
       "  chr    pos            ID refNt  ... PredictedPID P-value Route gnomADGen_SegDup\n",
       "0   1  13273   rs531730856     G  ...           NO     NaN   NaN              yes\n",
       "1   1  13417   rs777038595     C  ...           NO     NaN   NaN              yes\n",
       "2   1  13656  rs1263393206   CAG  ...           NO     NaN   NaN              yes\n",
       "3   1  15211    rs78601809     T  ...           NO     NaN   NaN              yes\n",
       "4   1  69511    rs75062661     A  ...           NO     NaN   NaN              yes\n",
       "\n",
       "[5 rows x 42 columns]"
      ]
     },
     "execution_count": 5,
     "metadata": {
      "tags": []
     },
     "output_type": "execute_result"
    }
   ],
   "source": [
    "e1[e1['chr']=='1'].head(5) #from 0 to 5-1"
   ]
  },
  {
   "cell_type": "code",
   "execution_count": null,
   "metadata": {
    "colab": {
     "base_uri": "https://localhost:8080/",
     "height": 143
    },
    "id": "qfR-2wZuO0e2",
    "outputId": "c30a3c8c-3961-40aa-d82e-b5ae4d81a53c"
   },
   "outputs": [
    {
     "data": {
      "text/html": [
       "<div>\n",
       "<style scoped>\n",
       "    .dataframe tbody tr th:only-of-type {\n",
       "        vertical-align: middle;\n",
       "    }\n",
       "\n",
       "    .dataframe tbody tr th {\n",
       "        vertical-align: top;\n",
       "    }\n",
       "\n",
       "    .dataframe thead th {\n",
       "        text-align: right;\n",
       "    }\n",
       "</style>\n",
       "<table border=\"1\" class=\"dataframe\">\n",
       "  <thead>\n",
       "    <tr style=\"text-align: right;\">\n",
       "      <th></th>\n",
       "      <th>chr</th>\n",
       "      <th>value</th>\n",
       "    </tr>\n",
       "  </thead>\n",
       "  <tbody>\n",
       "    <tr>\n",
       "      <th>0</th>\n",
       "      <td>1</td>\n",
       "      <td>val1</td>\n",
       "    </tr>\n",
       "    <tr>\n",
       "      <th>1</th>\n",
       "      <td>x</td>\n",
       "      <td>val2</td>\n",
       "    </tr>\n",
       "    <tr>\n",
       "      <th>2</th>\n",
       "      <td>y</td>\n",
       "      <td>val3</td>\n",
       "    </tr>\n",
       "  </tbody>\n",
       "</table>\n",
       "</div>"
      ],
      "text/plain": [
       "  chr value\n",
       "0   1  val1\n",
       "1   x  val2\n",
       "2   y  val3"
      ]
     },
     "execution_count": 6,
     "metadata": {
      "tags": []
     },
     "output_type": "execute_result"
    }
   ],
   "source": [
    "u=pd.DataFrame({'chr':['1','x','y'],'value':['val1','val2','val3']}) #example of a df creation\n",
    "u"
   ]
  },
  {
   "cell_type": "code",
   "execution_count": null,
   "metadata": {
    "colab": {
     "base_uri": "https://localhost:8080/",
     "height": 226
    },
    "id": "o-WqJys5PV6_",
    "outputId": "5d6ebe73-0fdf-4838-9319-908c6f58f28a"
   },
   "outputs": [
    {
     "data": {
      "text/html": [
       "<div>\n",
       "<style scoped>\n",
       "    .dataframe tbody tr th:only-of-type {\n",
       "        vertical-align: middle;\n",
       "    }\n",
       "\n",
       "    .dataframe tbody tr th {\n",
       "        vertical-align: top;\n",
       "    }\n",
       "\n",
       "    .dataframe thead th {\n",
       "        text-align: right;\n",
       "    }\n",
       "</style>\n",
       "<table border=\"1\" class=\"dataframe\">\n",
       "  <thead>\n",
       "    <tr style=\"text-align: right;\">\n",
       "      <th></th>\n",
       "      <th>chr</th>\n",
       "      <th>pos</th>\n",
       "      <th>ID</th>\n",
       "      <th>refNt</th>\n",
       "      <th>altNt</th>\n",
       "      <th>function</th>\n",
       "      <th>gene</th>\n",
       "      <th>transcrptID</th>\n",
       "      <th>is_CCDS</th>\n",
       "      <th>is_RefSeq</th>\n",
       "      <th>AAChange</th>\n",
       "      <th>AnnoOther</th>\n",
       "      <th>zygo</th>\n",
       "      <th>BL</th>\n",
       "      <th>gnomADGenomes_AF</th>\n",
       "      <th>gnomADEx_AF</th>\n",
       "      <th>ESP6500All_AF</th>\n",
       "      <th>gnomADEx_AFR_AF</th>\n",
       "      <th>gnomADEx_AMR_AF</th>\n",
       "      <th>gnomADEx_EAS_AF</th>\n",
       "      <th>gnomADEx_FIN_AF</th>\n",
       "      <th>gnomADEx_NFE_AF</th>\n",
       "      <th>gnomADEx_OTH_AF</th>\n",
       "      <th>gnomADEx_SAS_AF</th>\n",
       "      <th>MiddleEast_AF</th>\n",
       "      <th>Sift_Pred</th>\n",
       "      <th>Polyphen2HVAR_Pred</th>\n",
       "      <th>CADD_Phred_V1.3</th>\n",
       "      <th>MSC_99%</th>\n",
       "      <th>MSC_99%_Pred</th>\n",
       "      <th>GDI</th>\n",
       "      <th>varQual</th>\n",
       "      <th>AD</th>\n",
       "      <th>DP</th>\n",
       "      <th>MQ</th>\n",
       "      <th>QD</th>\n",
       "      <th>Clinvar_AlleleID</th>\n",
       "      <th>KnownPID</th>\n",
       "      <th>PredictedPID</th>\n",
       "      <th>P-value</th>\n",
       "      <th>Route</th>\n",
       "      <th>gnomADGen_SegDup</th>\n",
       "    </tr>\n",
       "  </thead>\n",
       "  <tbody>\n",
       "    <tr>\n",
       "      <th>22502</th>\n",
       "      <td>2</td>\n",
       "      <td>242707101</td>\n",
       "      <td>rs6756901</td>\n",
       "      <td>A</td>\n",
       "      <td>G</td>\n",
       "      <td>intron</td>\n",
       "      <td>D2HGDH</td>\n",
       "      <td>ENST00000321264</td>\n",
       "      <td>yes</td>\n",
       "      <td>yes</td>\n",
       "      <td>NaN</td>\n",
       "      <td>NaN</td>\n",
       "      <td>het</td>\n",
       "      <td>no</td>\n",
       "      <td>0.603751</td>\n",
       "      <td>0.518218</td>\n",
       "      <td>0.382489</td>\n",
       "      <td>0.871115</td>\n",
       "      <td>0.0</td>\n",
       "      <td>0.585605</td>\n",
       "      <td>0.470520</td>\n",
       "      <td>0.501298</td>\n",
       "      <td>0.519070</td>\n",
       "      <td>0.458265</td>\n",
       "      <td>NaN</td>\n",
       "      <td>NaN</td>\n",
       "      <td>NaN</td>\n",
       "      <td>5.22</td>\n",
       "      <td>0.09</td>\n",
       "      <td>HIGH</td>\n",
       "      <td>11.04</td>\n",
       "      <td>644</td>\n",
       "      <td>29,24</td>\n",
       "      <td>53</td>\n",
       "      <td>60.0</td>\n",
       "      <td>12.2</td>\n",
       "      <td>168071.0</td>\n",
       "      <td>NO</td>\n",
       "      <td>NO</td>\n",
       "      <td>NaN</td>\n",
       "      <td>NaN</td>\n",
       "      <td>no</td>\n",
       "    </tr>\n",
       "    <tr>\n",
       "      <th>22503</th>\n",
       "      <td>2</td>\n",
       "      <td>242707477</td>\n",
       "      <td>rs11552660</td>\n",
       "      <td>T</td>\n",
       "      <td>C</td>\n",
       "      <td>utr_3</td>\n",
       "      <td>D2HGDH</td>\n",
       "      <td>ENST00000321264</td>\n",
       "      <td>yes</td>\n",
       "      <td>yes</td>\n",
       "      <td>NaN</td>\n",
       "      <td>NaN</td>\n",
       "      <td>het</td>\n",
       "      <td>no</td>\n",
       "      <td>0.111900</td>\n",
       "      <td>NaN</td>\n",
       "      <td>NaN</td>\n",
       "      <td>NaN</td>\n",
       "      <td>NaN</td>\n",
       "      <td>NaN</td>\n",
       "      <td>NaN</td>\n",
       "      <td>NaN</td>\n",
       "      <td>NaN</td>\n",
       "      <td>NaN</td>\n",
       "      <td>NaN</td>\n",
       "      <td>NaN</td>\n",
       "      <td>NaN</td>\n",
       "      <td>2.44</td>\n",
       "      <td>0.09</td>\n",
       "      <td>HIGH</td>\n",
       "      <td>11.04</td>\n",
       "      <td>105</td>\n",
       "      <td>1,4</td>\n",
       "      <td>5</td>\n",
       "      <td>60.0</td>\n",
       "      <td>21.0</td>\n",
       "      <td>286302.0</td>\n",
       "      <td>NO</td>\n",
       "      <td>NO</td>\n",
       "      <td>NaN</td>\n",
       "      <td>NaN</td>\n",
       "      <td>no</td>\n",
       "    </tr>\n",
       "    <tr>\n",
       "      <th>22504</th>\n",
       "      <td>2</td>\n",
       "      <td>242708045</td>\n",
       "      <td>rs113372064</td>\n",
       "      <td>C</td>\n",
       "      <td>T</td>\n",
       "      <td>utr_3</td>\n",
       "      <td>D2HGDH</td>\n",
       "      <td>ENST00000321264</td>\n",
       "      <td>yes</td>\n",
       "      <td>yes</td>\n",
       "      <td>NaN</td>\n",
       "      <td>NaN</td>\n",
       "      <td>hom</td>\n",
       "      <td>no</td>\n",
       "      <td>0.073784</td>\n",
       "      <td>NaN</td>\n",
       "      <td>NaN</td>\n",
       "      <td>NaN</td>\n",
       "      <td>NaN</td>\n",
       "      <td>NaN</td>\n",
       "      <td>NaN</td>\n",
       "      <td>NaN</td>\n",
       "      <td>NaN</td>\n",
       "      <td>NaN</td>\n",
       "      <td>NaN</td>\n",
       "      <td>NaN</td>\n",
       "      <td>NaN</td>\n",
       "      <td>5.46</td>\n",
       "      <td>0.09</td>\n",
       "      <td>HIGH</td>\n",
       "      <td>11.04</td>\n",
       "      <td>52</td>\n",
       "      <td>0,2</td>\n",
       "      <td>2</td>\n",
       "      <td>60.0</td>\n",
       "      <td>25.9</td>\n",
       "      <td>286337.0</td>\n",
       "      <td>NO</td>\n",
       "      <td>NO</td>\n",
       "      <td>NaN</td>\n",
       "      <td>NaN</td>\n",
       "      <td>no</td>\n",
       "    </tr>\n",
       "    <tr>\n",
       "      <th>22505</th>\n",
       "      <td>2</td>\n",
       "      <td>242743651</td>\n",
       "      <td>rs744986</td>\n",
       "      <td>G</td>\n",
       "      <td>A</td>\n",
       "      <td>upstream</td>\n",
       "      <td>AC114730.5</td>\n",
       "      <td>ENST00000437438</td>\n",
       "      <td>no</td>\n",
       "      <td>no</td>\n",
       "      <td>NaN</td>\n",
       "      <td>downstream(GAL3ST2:ENST00000192314)</td>\n",
       "      <td>het</td>\n",
       "      <td>no</td>\n",
       "      <td>0.348165</td>\n",
       "      <td>NaN</td>\n",
       "      <td>NaN</td>\n",
       "      <td>NaN</td>\n",
       "      <td>NaN</td>\n",
       "      <td>NaN</td>\n",
       "      <td>NaN</td>\n",
       "      <td>NaN</td>\n",
       "      <td>NaN</td>\n",
       "      <td>NaN</td>\n",
       "      <td>NaN</td>\n",
       "      <td>NaN</td>\n",
       "      <td>NaN</td>\n",
       "      <td>2.33</td>\n",
       "      <td>NaN</td>\n",
       "      <td>NaN</td>\n",
       "      <td>NaN</td>\n",
       "      <td>145</td>\n",
       "      <td>3,5</td>\n",
       "      <td>8</td>\n",
       "      <td>60.0</td>\n",
       "      <td>18.1</td>\n",
       "      <td>NaN</td>\n",
       "      <td>NO</td>\n",
       "      <td>NO</td>\n",
       "      <td>NaN</td>\n",
       "      <td>NaN</td>\n",
       "      <td>no</td>\n",
       "    </tr>\n",
       "    <tr>\n",
       "      <th>22506</th>\n",
       "      <td>2</td>\n",
       "      <td>242813124</td>\n",
       "      <td>rs13016102</td>\n",
       "      <td>T</td>\n",
       "      <td>C</td>\n",
       "      <td>intron</td>\n",
       "      <td>CXXC11</td>\n",
       "      <td>ENST00000343216</td>\n",
       "      <td>yes</td>\n",
       "      <td>yes</td>\n",
       "      <td>NaN</td>\n",
       "      <td>NaN</td>\n",
       "      <td>hom</td>\n",
       "      <td>no</td>\n",
       "      <td>0.989166</td>\n",
       "      <td>0.996225</td>\n",
       "      <td>NaN</td>\n",
       "      <td>0.970301</td>\n",
       "      <td>0.0</td>\n",
       "      <td>1.000000</td>\n",
       "      <td>0.995157</td>\n",
       "      <td>0.996347</td>\n",
       "      <td>0.996717</td>\n",
       "      <td>0.999911</td>\n",
       "      <td>NaN</td>\n",
       "      <td>NaN</td>\n",
       "      <td>NaN</td>\n",
       "      <td>1.94</td>\n",
       "      <td>2.31</td>\n",
       "      <td>LOW</td>\n",
       "      <td>9.35</td>\n",
       "      <td>1920</td>\n",
       "      <td>0,57</td>\n",
       "      <td>57</td>\n",
       "      <td>60.0</td>\n",
       "      <td>33.7</td>\n",
       "      <td>NaN</td>\n",
       "      <td>NO</td>\n",
       "      <td>NO</td>\n",
       "      <td>NaN</td>\n",
       "      <td>NaN</td>\n",
       "      <td>no</td>\n",
       "    </tr>\n",
       "  </tbody>\n",
       "</table>\n",
       "</div>"
      ],
      "text/plain": [
       "      chr        pos           ID  ... P-value Route gnomADGen_SegDup\n",
       "22502   2  242707101    rs6756901  ...     NaN   NaN               no\n",
       "22503   2  242707477   rs11552660  ...     NaN   NaN               no\n",
       "22504   2  242708045  rs113372064  ...     NaN   NaN               no\n",
       "22505   2  242743651     rs744986  ...     NaN   NaN               no\n",
       "22506   2  242813124   rs13016102  ...     NaN   NaN               no\n",
       "\n",
       "[5 rows x 42 columns]"
      ]
     },
     "execution_count": 7,
     "metadata": {
      "tags": []
     },
     "output_type": "execute_result"
    }
   ],
   "source": [
    "chr_e2=['1','2']\n",
    "e2_filter=[x in chr_e2 for x in tuple(e1['chr'])] #search for list comprehension vs generator\n",
    "#print(e2_filter)\n",
    "e2=e1[e2_filter]\n",
    "e2.tail(5)"
   ]
  },
  {
   "cell_type": "code",
   "execution_count": null,
   "metadata": {
    "colab": {
     "base_uri": "https://localhost:8080/",
     "height": 400
    },
    "id": "RPU73Lw-QdrK",
    "outputId": "a045e86d-89ea-442c-9785-c32d1fc457fc"
   },
   "outputs": [
    {
     "name": "stdout",
     "output_type": "stream",
     "text": [
      "Index(['chr', 'pos', 'ID', 'refNt', 'altNt', 'function', 'gene', 'transcrptID',\n",
      "       'is_CCDS', 'is_RefSeq', 'AAChange', 'AnnoOther', 'zygo', 'BL',\n",
      "       'gnomADGenomes_AF', 'gnomADEx_AF', 'ESP6500All_AF', 'gnomADEx_AFR_AF',\n",
      "       'gnomADEx_AMR_AF', 'gnomADEx_EAS_AF', 'gnomADEx_FIN_AF',\n",
      "       'gnomADEx_NFE_AF', 'gnomADEx_OTH_AF', 'gnomADEx_SAS_AF',\n",
      "       'MiddleEast_AF', 'Sift_Pred', 'Polyphen2HVAR_Pred', 'CADD_Phred_V1.3',\n",
      "       'MSC_99%', 'MSC_99%_Pred', 'GDI', 'varQual', 'AD', 'DP', 'MQ', 'QD',\n",
      "       'Clinvar_AlleleID', 'KnownPID', 'PredictedPID', 'P-value', 'Route',\n",
      "       'gnomADGen_SegDup'],\n",
      "      dtype='object')\n"
     ]
    },
    {
     "data": {
      "text/html": [
       "<div>\n",
       "<style scoped>\n",
       "    .dataframe tbody tr th:only-of-type {\n",
       "        vertical-align: middle;\n",
       "    }\n",
       "\n",
       "    .dataframe tbody tr th {\n",
       "        vertical-align: top;\n",
       "    }\n",
       "\n",
       "    .dataframe thead th {\n",
       "        text-align: right;\n",
       "    }\n",
       "</style>\n",
       "<table border=\"1\" class=\"dataframe\">\n",
       "  <thead>\n",
       "    <tr style=\"text-align: right;\">\n",
       "      <th></th>\n",
       "      <th>chr</th>\n",
       "      <th>pos</th>\n",
       "      <th>ID</th>\n",
       "      <th>refNt</th>\n",
       "      <th>altNt</th>\n",
       "      <th>function</th>\n",
       "      <th>gene</th>\n",
       "      <th>transcrptID</th>\n",
       "      <th>is_CCDS</th>\n",
       "      <th>is_RefSeq</th>\n",
       "      <th>AAChange</th>\n",
       "      <th>AnnoOther</th>\n",
       "      <th>zygo</th>\n",
       "      <th>BL</th>\n",
       "      <th>gnomADGenomes_AF</th>\n",
       "      <th>gnomADEx_AF</th>\n",
       "      <th>ESP6500All_AF</th>\n",
       "      <th>gnomADEx_AFR_AF</th>\n",
       "      <th>gnomADEx_AMR_AF</th>\n",
       "      <th>gnomADEx_EAS_AF</th>\n",
       "      <th>gnomADEx_FIN_AF</th>\n",
       "      <th>gnomADEx_NFE_AF</th>\n",
       "      <th>gnomADEx_OTH_AF</th>\n",
       "      <th>gnomADEx_SAS_AF</th>\n",
       "      <th>MiddleEast_AF</th>\n",
       "      <th>Sift_Pred</th>\n",
       "      <th>Polyphen2HVAR_Pred</th>\n",
       "      <th>CADD_Phred_V1.3</th>\n",
       "      <th>MSC_99%</th>\n",
       "      <th>MSC_99%_Pred</th>\n",
       "      <th>GDI</th>\n",
       "      <th>varQual</th>\n",
       "      <th>AD</th>\n",
       "      <th>DP</th>\n",
       "      <th>MQ</th>\n",
       "      <th>QD</th>\n",
       "      <th>Clinvar_AlleleID</th>\n",
       "      <th>KnownPID</th>\n",
       "      <th>PredictedPID</th>\n",
       "      <th>P-value</th>\n",
       "      <th>Route</th>\n",
       "      <th>gnomADGen_SegDup</th>\n",
       "    </tr>\n",
       "  </thead>\n",
       "  <tbody>\n",
       "    <tr>\n",
       "      <th>90071</th>\n",
       "      <td>12</td>\n",
       "      <td>133797649</td>\n",
       "      <td>rs147515371</td>\n",
       "      <td>T</td>\n",
       "      <td>G</td>\n",
       "      <td>intron</td>\n",
       "      <td>ANHX</td>\n",
       "      <td>ENST00000419717</td>\n",
       "      <td>yes</td>\n",
       "      <td>yes</td>\n",
       "      <td>NaN</td>\n",
       "      <td>intron(ANHX:ENST00000545940);upstream(AC226150...</td>\n",
       "      <td>hom</td>\n",
       "      <td>no</td>\n",
       "      <td>0.755861</td>\n",
       "      <td>NaN</td>\n",
       "      <td>NaN</td>\n",
       "      <td>NaN</td>\n",
       "      <td>NaN</td>\n",
       "      <td>NaN</td>\n",
       "      <td>NaN</td>\n",
       "      <td>NaN</td>\n",
       "      <td>NaN</td>\n",
       "      <td>NaN</td>\n",
       "      <td>NaN</td>\n",
       "      <td>NaN</td>\n",
       "      <td>NaN</td>\n",
       "      <td>8.86</td>\n",
       "      <td>2.31</td>\n",
       "      <td>HIGH</td>\n",
       "      <td>11.48</td>\n",
       "      <td>1130</td>\n",
       "      <td>0,32</td>\n",
       "      <td>32</td>\n",
       "      <td>60.0</td>\n",
       "      <td>24.6</td>\n",
       "      <td>NaN</td>\n",
       "      <td>NO</td>\n",
       "      <td>NO</td>\n",
       "      <td>NaN</td>\n",
       "      <td>NaN</td>\n",
       "      <td>no</td>\n",
       "    </tr>\n",
       "    <tr>\n",
       "      <th>90072</th>\n",
       "      <td>12</td>\n",
       "      <td>133803075</td>\n",
       "      <td>rs146938968</td>\n",
       "      <td>C</td>\n",
       "      <td>A</td>\n",
       "      <td>intron</td>\n",
       "      <td>ANHX</td>\n",
       "      <td>ENST00000419717</td>\n",
       "      <td>yes</td>\n",
       "      <td>yes</td>\n",
       "      <td>NaN</td>\n",
       "      <td>intron(ANHX:ENST00000545940)</td>\n",
       "      <td>het</td>\n",
       "      <td>no</td>\n",
       "      <td>0.121501</td>\n",
       "      <td>NaN</td>\n",
       "      <td>NaN</td>\n",
       "      <td>NaN</td>\n",
       "      <td>NaN</td>\n",
       "      <td>NaN</td>\n",
       "      <td>NaN</td>\n",
       "      <td>NaN</td>\n",
       "      <td>NaN</td>\n",
       "      <td>NaN</td>\n",
       "      <td>NaN</td>\n",
       "      <td>NaN</td>\n",
       "      <td>NaN</td>\n",
       "      <td>11.46</td>\n",
       "      <td>2.31</td>\n",
       "      <td>HIGH</td>\n",
       "      <td>11.48</td>\n",
       "      <td>506</td>\n",
       "      <td>12,16</td>\n",
       "      <td>28</td>\n",
       "      <td>60.0</td>\n",
       "      <td>17.4</td>\n",
       "      <td>NaN</td>\n",
       "      <td>NO</td>\n",
       "      <td>NO</td>\n",
       "      <td>NaN</td>\n",
       "      <td>NaN</td>\n",
       "      <td>no</td>\n",
       "    </tr>\n",
       "    <tr>\n",
       "      <th>90073</th>\n",
       "      <td>12</td>\n",
       "      <td>133808270</td>\n",
       "      <td>rs142638257</td>\n",
       "      <td>C</td>\n",
       "      <td>T</td>\n",
       "      <td>intron</td>\n",
       "      <td>ANHX</td>\n",
       "      <td>ENST00000419717</td>\n",
       "      <td>yes</td>\n",
       "      <td>yes</td>\n",
       "      <td>NaN</td>\n",
       "      <td>intron(ANHX:ENST00000545940)</td>\n",
       "      <td>het</td>\n",
       "      <td>no</td>\n",
       "      <td>0.057811</td>\n",
       "      <td>0.051146</td>\n",
       "      <td>NaN</td>\n",
       "      <td>0.041920</td>\n",
       "      <td>0.0</td>\n",
       "      <td>0.003437</td>\n",
       "      <td>0.081753</td>\n",
       "      <td>0.065813</td>\n",
       "      <td>0.060494</td>\n",
       "      <td>0.053098</td>\n",
       "      <td>NaN</td>\n",
       "      <td>NaN</td>\n",
       "      <td>NaN</td>\n",
       "      <td>6.49</td>\n",
       "      <td>2.31</td>\n",
       "      <td>HIGH</td>\n",
       "      <td>11.48</td>\n",
       "      <td>551</td>\n",
       "      <td>17,15</td>\n",
       "      <td>32</td>\n",
       "      <td>60.0</td>\n",
       "      <td>17.2</td>\n",
       "      <td>NaN</td>\n",
       "      <td>NO</td>\n",
       "      <td>NO</td>\n",
       "      <td>NaN</td>\n",
       "      <td>NaN</td>\n",
       "      <td>no</td>\n",
       "    </tr>\n",
       "    <tr>\n",
       "      <th>90074</th>\n",
       "      <td>12</td>\n",
       "      <td>133808275</td>\n",
       "      <td>rs150558535</td>\n",
       "      <td>G</td>\n",
       "      <td>C</td>\n",
       "      <td>intron</td>\n",
       "      <td>ANHX</td>\n",
       "      <td>ENST00000419717</td>\n",
       "      <td>yes</td>\n",
       "      <td>yes</td>\n",
       "      <td>NaN</td>\n",
       "      <td>intron(ANHX:ENST00000545940)</td>\n",
       "      <td>het</td>\n",
       "      <td>no</td>\n",
       "      <td>0.058017</td>\n",
       "      <td>0.051031</td>\n",
       "      <td>NaN</td>\n",
       "      <td>0.041947</td>\n",
       "      <td>0.0</td>\n",
       "      <td>0.003436</td>\n",
       "      <td>0.081648</td>\n",
       "      <td>0.065776</td>\n",
       "      <td>0.060614</td>\n",
       "      <td>0.053132</td>\n",
       "      <td>NaN</td>\n",
       "      <td>NaN</td>\n",
       "      <td>NaN</td>\n",
       "      <td>5.94</td>\n",
       "      <td>2.31</td>\n",
       "      <td>HIGH</td>\n",
       "      <td>11.48</td>\n",
       "      <td>557</td>\n",
       "      <td>13,15</td>\n",
       "      <td>28</td>\n",
       "      <td>60.0</td>\n",
       "      <td>19.9</td>\n",
       "      <td>NaN</td>\n",
       "      <td>NO</td>\n",
       "      <td>NO</td>\n",
       "      <td>NaN</td>\n",
       "      <td>NaN</td>\n",
       "      <td>no</td>\n",
       "    </tr>\n",
       "    <tr>\n",
       "      <th>90075</th>\n",
       "      <td>12</td>\n",
       "      <td>133812415</td>\n",
       "      <td>rs141289920</td>\n",
       "      <td>C</td>\n",
       "      <td>T</td>\n",
       "      <td>utr_5</td>\n",
       "      <td>ANHX</td>\n",
       "      <td>ENST00000545940</td>\n",
       "      <td>yes</td>\n",
       "      <td>yes</td>\n",
       "      <td>NaN</td>\n",
       "      <td>upstream(ANHX:ENST00000419717);downstream(RNU6...</td>\n",
       "      <td>hom</td>\n",
       "      <td>no</td>\n",
       "      <td>0.800103</td>\n",
       "      <td>NaN</td>\n",
       "      <td>NaN</td>\n",
       "      <td>NaN</td>\n",
       "      <td>NaN</td>\n",
       "      <td>NaN</td>\n",
       "      <td>NaN</td>\n",
       "      <td>NaN</td>\n",
       "      <td>NaN</td>\n",
       "      <td>NaN</td>\n",
       "      <td>NaN</td>\n",
       "      <td>NaN</td>\n",
       "      <td>NaN</td>\n",
       "      <td>7.43</td>\n",
       "      <td>2.31</td>\n",
       "      <td>HIGH</td>\n",
       "      <td>11.48</td>\n",
       "      <td>22</td>\n",
       "      <td>0,2</td>\n",
       "      <td>2</td>\n",
       "      <td>60.0</td>\n",
       "      <td>10.9</td>\n",
       "      <td>NaN</td>\n",
       "      <td>NO</td>\n",
       "      <td>NO</td>\n",
       "      <td>NaN</td>\n",
       "      <td>NaN</td>\n",
       "      <td>no</td>\n",
       "    </tr>\n",
       "  </tbody>\n",
       "</table>\n",
       "</div>"
      ],
      "text/plain": [
       "      chr        pos           ID  ... P-value Route gnomADGen_SegDup\n",
       "90071  12  133797649  rs147515371  ...     NaN   NaN               no\n",
       "90072  12  133803075  rs146938968  ...     NaN   NaN               no\n",
       "90073  12  133808270  rs142638257  ...     NaN   NaN               no\n",
       "90074  12  133808275  rs150558535  ...     NaN   NaN               no\n",
       "90075  12  133812415  rs141289920  ...     NaN   NaN               no\n",
       "\n",
       "[5 rows x 42 columns]"
      ]
     },
     "execution_count": 8,
     "metadata": {
      "tags": []
     },
     "output_type": "execute_result"
    }
   ],
   "source": [
    "chr_e3=['1','12']\n",
    "e3_filter=[x in chr_e3 for x in tuple(e1['chr'])] #generator list generator\n",
    "#print(e3_filter)\n",
    "e3=e1[e3_filter]\n",
    "print(e3.columns)\n",
    "e3.tail(5)"
   ]
  },
  {
   "cell_type": "markdown",
   "metadata": {
    "id": "PQKtmjZtVQUJ"
   },
   "source": [
    "# Subsets combinations\n",
    "available sets: e1,e2,e3 (exoms)\n",
    "\n",
    "possible subsets:\n",
    "\n",
    "*   ${e_{_{i}}}\\cap\\ {e_{_{j}}}\\cap\\ {e_{_{k}}}\n",
    "\\ |_{i,j,k\\in \\{A,B,C\\}\\ \\wedge\\ i\\neq j\\neq k}$\n",
    "*   ${e_{i}}\\cap\\ {e_{j}}\\cap \\ {{e^c}_{k}}\n",
    "\\ |_{i,j,k\\in \\{A,B,C\\}\\ \\wedge\\ i\\neq j\\neq k}$\n",
    "*   ${e_{i}}\\cap \\ {{e^c}_{j}} \\cap \\ {{e^c}_{k}}\n",
    "\\ |_{i,j,k\\in \\{A,B,C\\}\\ \\wedge\\ i\\neq j\\neq k}$\n",
    "\n",
    "<div>\n",
    "<center>\n",
    "<img src=\"https://www.onlinemath4all.com/images/xvenndiagramwordproblems1.png.pagespeed.ic.kmTtvoa1vp.png\" width=\"40%\"/>\n",
    "</center>\n",
    "</div>\n",
    "\n",
    "> Figure 1. Venn diagram with C as the pacient, A as affected parent and B as the unaffected parent.\n",
    "\n",
    "**Requirements:**\n",
    "*   y\n",
    "*   must match a triplet of (pos, ref nt, gene)\n",
    "\n",
    "\n",
    "\n",
    "\n"
   ]
  },
  {
   "cell_type": "code",
   "execution_count": null,
   "metadata": {
    "colab": {
     "base_uri": "https://localhost:8080/",
     "height": 69
    },
    "id": "b_t8lqnTmNcW",
    "outputId": "10f216f9-7735-4697-ebe1-ddecd1ff89b8"
   },
   "outputs": [
    {
     "name": "stdout",
     "output_type": "stream",
     "text": [
      "len(apriori_common)=1973\n",
      "len(apriori_unique_e2)=1286\n",
      "len(apriori_unique_e3)=1040\n"
     ]
    }
   ],
   "source": [
    "apriori_common=len(set(list(e1[e1['chr']=='1']['gene'])))\n",
    "apriori_unique_e2=len(set(list(e2[e2['chr']=='2']['gene'])))\n",
    "apriori_unique_e3=len(set(list(e3[e3['chr']=='12']['gene'])))\n",
    "print(\"len(apriori_common)={}\".format(apriori_common))\n",
    "print(\"len(apriori_unique_e2)={}\".format(apriori_unique_e2))\n",
    "print(\"len(apriori_unique_e3)={}\".format(apriori_unique_e3))"
   ]
  },
  {
   "cell_type": "code",
   "execution_count": null,
   "metadata": {
    "colab": {
     "base_uri": "https://localhost:8080/",
     "height": 124
    },
    "id": "cjyxw5YoW4yh",
    "outputId": "33631822-9550-44a3-99c7-3069b3770583"
   },
   "outputs": [
    {
     "name": "stdout",
     "output_type": "stream",
     "text": [
      "['DDX11L1', 'DDX11L1', 'DDX11L1', 'WASH7P', 'OR4F5', 'AL627309.1', 'RP11-206L10.10', 'RP11-206L10.10', 'LINC00115', 'LINC00115', 'LINC00115', 'LINC00115', 'LINC00115', 'LINC00115', 'LINC01128', 'LINC01128', 'LINC01128', 'LINC01128', 'FAM41C', 'TUBB8P11']\n",
      "22507\n",
      "[132]\n",
      "['DDX11L1']\n",
      "[0, 1, 2]\n"
     ]
    }
   ],
   "source": [
    "genes_e1=set(list(e1['gene']))\n",
    "genes_e2=set(list(e2['gene']))\n",
    "genes_e3=set(list(e3['gene']))\n",
    "\n",
    "def searchforgene(gene,genes_set):\n",
    "  positions=[]\n",
    "  genes=[]\n",
    "  for i in range(len(genes_set)):\n",
    "    if gene==genes_set[i]:\n",
    "      positions.append(i)\n",
    "      genes.append(genes_set[i])\n",
    "  return (positions,genes)\n",
    "# test\n",
    "print(list(e2['gene'])[:20])\n",
    "print(len(list(e2['gene'])))\n",
    "print(searchforgene('DDX11L1',list(genes_e2))[0])\n",
    "print(searchforgene('DDX11L1',list(genes_e2))[1])\n",
    "print(searchforgene('DDX11L1',list(e2['gene']))[0])\n"
   ]
  },
  {
   "cell_type": "code",
   "execution_count": null,
   "metadata": {
    "colab": {
     "base_uri": "https://localhost:8080/",
     "height": 34
    },
    "id": "9prvt37Or0TU",
    "outputId": "15735186-6711-4174-cf93-43fd51c8de38"
   },
   "outputs": [
    {
     "data": {
      "text/plain": [
       "1973"
      ]
     },
     "execution_count": 11,
     "metadata": {
      "tags": []
     },
     "output_type": "execute_result"
    }
   ],
   "source": [
    "common=genes_e1.intersection(genes_e2).intersection(genes_e3)\n",
    "len(common)"
   ]
  },
  {
   "cell_type": "markdown",
   "metadata": {
    "id": "z63S4UQpp_Tl"
   },
   "source": [
    "The result shown above, shows that *len(a_priori_common)* is equal to the **z** subset (see fig. 1).\n",
    "\n"
   ]
  },
  {
   "cell_type": "markdown",
   "metadata": {
    "id": "HxpSDrZewdpe"
   },
   "source": [
    "# Constructing the generic function\n"
   ]
  },
  {
   "cell_type": "markdown",
   "metadata": {
    "id": "3Ocue02powQh"
   },
   "source": [
    "## Selecting individual tuples from the exomes files : *extract_tuples_pro* function"
   ]
  },
  {
   "cell_type": "code",
   "execution_count": null,
   "metadata": {
    "id": "ZS9YZi9NlHW2"
   },
   "outputs": [],
   "source": [
    "def extract_tuples_pro(e,prop=(\"gene\",\"pos\",\"refNt\")):\n",
    "    \"\"\"\n",
    "    Must extract the desired parameters from the exome \"e\"\n",
    "    in a list of tuples(default triples)\n",
    "    \"\"\"\n",
    "    return e[list(prop)].values"
   ]
  },
  {
   "cell_type": "code",
   "execution_count": null,
   "metadata": {
    "colab": {
     "base_uri": "https://localhost:8080/",
     "height": 86
    },
    "id": "cVQcel8TwpEk",
    "outputId": "b093f319-9d14-4740-9281-678c8c5b2876"
   },
   "outputs": [
    {
     "name": "stdout",
     "output_type": "stream",
     "text": [
      "[['DDX11L1', 13273, 'G'], ['DDX11L1', 13417, 'C'], ['DDX11L1', 13656, 'CAG'], ['WASH7P', 15211, 'T'], ['OR4F5', 69511, 'A']]\n",
      "22507\n",
      "22507\n",
      "22507\n"
     ]
    }
   ],
   "source": [
    "def extract_tuples(e,prop=(\"gene\",\"pos\",\"refNt\")):\n",
    "    \"\"\"\n",
    "    Must extract the desired parameters from the exome \"e\"\n",
    "    in a list of tuples(default triples)\n",
    "    \"\"\"\n",
    "    r={}\n",
    "    for i in range(len(prop)):\n",
    "        r[prop[i]]=tuple(e[prop[i]])\n",
    "\n",
    "    # rr[0]=(\"a_gen\",\"a_pos\",\"a_refNt\")\n",
    "    rr=[]\n",
    "    for i in range(len(r[prop[0]])):\n",
    "        rri=[r[j][i] for j in prop]#list comprehension\n",
    "        rr.append(rri)           \n",
    "\n",
    "    return r,rr\n",
    "\n",
    "# test\n",
    "print(extract_tuples(e2)[1][:5])\n",
    "print(len(extract_tuples(e2)[0][\"gene\"]))\n",
    "print(len(extract_tuples(e2)[0][\"pos\"]))\n",
    "print(len(extract_tuples(e2)[0][\"refNt\"]))"
   ]
  },
  {
   "cell_type": "markdown",
   "metadata": {
    "id": "mxz9lwvYp6EU"
   },
   "source": [
    "## Splitting by subsets : *subset* function"
   ]
  },
  {
   "cell_type": "code",
   "execution_count": null,
   "metadata": {
    "id": "S8BQkVImsJTK"
   },
   "outputs": [],
   "source": [
    "def subset(Ax,Bx,Cx,prop=(\"gene\",\"pos\",\"refNt\")):\n",
    "    \"\"\"\n",
    "    Must obtain the different subsets to contruct the Venn\n",
    "    diagram.\n",
    "    A and B: parents\n",
    "    C: Child\n",
    "    \"\"\"\n",
    "    A=frozenset(tuple(m) for m in extract_tuples_pro(Ax,prop)) #as set 1\n",
    "    B=frozenset(tuple(m) for m in extract_tuples_pro(Bx,prop)) #as set 2\n",
    "    C=frozenset(tuple(m) for m in extract_tuples_pro(Cx,prop)) #as set 3\n",
    "\n",
    "    a=((A-B)-C)             #001\n",
    "    b=((B-A)-C)             #010\n",
    "    c=((C-B)-A)             #100\n",
    "    y=((A&C)-B)             #101\n",
    "    w=((A&B)-C)             #011\n",
    "    x=((B&C)-A)             #110\n",
    "    z=A.intersection(B,C)   #111\n",
    "\n",
    "    combinations=[a,b,w,c,y,x,z]\n",
    "    merge_vector=[bin(i)[2:].zfill(3) for i in range (1,2**3)]\n",
    "    r=dict(zip(merge_vector,combinations))\n",
    "    return r"
   ]
  },
  {
   "cell_type": "code",
   "execution_count": null,
   "metadata": {
    "colab": {
     "base_uri": "https://localhost:8080/",
     "height": 34
    },
    "id": "0jzsnM_WBkpb",
    "outputId": "04c59749-d791-4982-aee1-076a43660740"
   },
   "outputs": [
    {
     "name": "stdout",
     "output_type": "stream",
     "text": [
      "['001', '010', '011', '100', '101', '110', '111']\n"
     ]
    }
   ],
   "source": [
    "# debug\n",
    "merge_vector=[bin(i)[2:].zfill(3) for i in range (1,2**3)]\n",
    "print(merge_vector)"
   ]
  },
  {
   "cell_type": "markdown",
   "metadata": {
    "id": "xMjh8UIqs_CS"
   },
   "source": [
    "## Venn Diagram"
   ]
  },
  {
   "cell_type": "code",
   "execution_count": null,
   "metadata": {
    "colab": {
     "base_uri": "https://localhost:8080/",
     "height": 518
    },
    "id": "C23eTiF1FQtU",
    "outputId": "f3b2dab9-cdfb-4249-d040-1419e1734ebd"
   },
   "outputs": [
    {
     "name": "stdout",
     "output_type": "stream",
     "text": [
      "[1, 1, 1, 1, 4, 3, 2]\n",
      "{'001': 1, '010': 1, '011': 1, '100': 1, '101': 4, '110': 3, '111': 2}\n",
      "['001', '010', '011', '100', '101', '110', '111']\n"
     ]
    },
    {
     "data": {
      "image/png": "[encoded data removed]",
      "text/plain": [
       "<Figure size 720x576 with 1 Axes>"
      ]
     },
     "metadata": {
      "tags": []
     },
     "output_type": "display_data"
    }
   ],
   "source": [
    "# Venn Diagramm - ilustrative example\n",
    "\n",
    "A,B,C=set('23 xk678'),set('13 ykjl'),set('12 zkjl678')\n",
    "Vtags=[A,B,C]\n",
    "\n",
    "a=((A-B)-C)             #001\n",
    "b=((B-A)-C)             #010\n",
    "c=((C-B)-A)             #100\n",
    "y=((A&C)-B)             #101\n",
    "w=((A&B)-C)             #011\n",
    "x=((B&C)-A)             #110\n",
    "z=A.intersection(B,C)   #111\n",
    "\n",
    "\n",
    "combinations=[len(i) for i in [a,b,w,c,y,x,z]]\n",
    "print(combinations)\n",
    "merge_vector=[bin(i)[2:].zfill(3) for i in range (1,2**3)]\n",
    "r=dict(zip(merge_vector,combinations))\n",
    "T=[a,b,w,c,y,x,z]\n",
    "ñ=dict(zip(merge_vector,T))\n",
    "print(r)\n",
    "print(merge_vector)\n",
    "#(Abc, aBc, ABc, abC, AbC, aBC, ABC)\n",
    "tags=['a','b','w','c','y','x','z']\n",
    "q=dict(zip(merge_vector,tags))\n",
    "plt.figure(figsize=(10,8))\n",
    "v=venn3(combinations,Vtags)\n",
    "for i in merge_vector:\n",
    "    try:\n",
    "        t=v.get_label_by_id(i).get_text()\n",
    "        v.get_label_by_id(i).set_text(f\"id:{i}\\n{q[i[::-1]]}:{t}\\n{ñ[i[::-1]]}\")\n",
    "    except:\n",
    "        print(\"debuging bro, testing\")\n",
    "\n",
    "plt.show()"
   ]
  },
  {
   "cell_type": "markdown",
   "metadata": {
    "id": "wx62XrGGKCoE"
   },
   "source": [
    "### *Venn* Function"
   ]
  },
  {
   "cell_type": "code",
   "execution_count": null,
   "metadata": {
    "id": "l5xCCYZiKCIF"
   },
   "outputs": [],
   "source": [
    "def venn(r,Vtags=('A','B','C')):\n",
    "    plt.figure(figsize=(10,8))\n",
    "    #(Abc, aBc, ABc, abC, AbC, aBC, ABC) <- format of venn3\n",
    "    # str[::-1] is used to flip strings\n",
    "    mv=[bin(i)[2:].zfill(3) for i in range (1,2**3)]\n",
    "    tags=['a','b','w','c','y','x','z']\n",
    "    q=dict(zip(mv,tags))\n",
    "    v=venn3([len(r[i]) for i in mv],Vtags)\n",
    "    for i in mv:\n",
    "        t=v.get_label_by_id(i).get_text()\n",
    "        v.get_label_by_id(i).set_text(f\"id:{i}\\n{q[i[::-1]]}\\n{t}\")\n",
    "    plt.show()\n",
    "    return None"
   ]
  },
  {
   "cell_type": "markdown",
   "metadata": {
    "id": "p26-ljZFGDqv"
   },
   "source": [
    "# Implementing and testing the function with sets"
   ]
  },
  {
   "cell_type": "code",
   "execution_count": null,
   "metadata": {
    "colab": {
     "base_uri": "https://localhost:8080/",
     "height": 310
    },
    "id": "CXnB2OBQOSU0",
    "outputId": "56c28a08-ff40-453b-c8d4-5a36d236ebdd"
   },
   "outputs": [
    {
     "name": "stdout",
     "output_type": "stream",
     "text": [
      "len(apriori_common)=138013\n",
      "[['DDX11L1' 13273 'G']\n",
      " ['DDX11L1' 13417 'C']\n",
      " ['DDX11L1' 13656 'CAG']\n",
      " ['WASH7P' 15211 'T']\n",
      " ['OR4F5' 69511 'A']]\n"
     ]
    },
    {
     "data": {
      "text/html": [
       "<div>\n",
       "<style scoped>\n",
       "    .dataframe tbody tr th:only-of-type {\n",
       "        vertical-align: middle;\n",
       "    }\n",
       "\n",
       "    .dataframe tbody tr th {\n",
       "        vertical-align: top;\n",
       "    }\n",
       "\n",
       "    .dataframe thead th {\n",
       "        text-align: right;\n",
       "    }\n",
       "</style>\n",
       "<table border=\"1\" class=\"dataframe\">\n",
       "  <thead>\n",
       "    <tr style=\"text-align: right;\">\n",
       "      <th></th>\n",
       "      <th>gene</th>\n",
       "      <th>pos</th>\n",
       "      <th>refNt</th>\n",
       "    </tr>\n",
       "  </thead>\n",
       "  <tbody>\n",
       "    <tr>\n",
       "      <th>0</th>\n",
       "      <td>DDX11L1</td>\n",
       "      <td>13273</td>\n",
       "      <td>G</td>\n",
       "    </tr>\n",
       "    <tr>\n",
       "      <th>1</th>\n",
       "      <td>DDX11L1</td>\n",
       "      <td>13417</td>\n",
       "      <td>C</td>\n",
       "    </tr>\n",
       "    <tr>\n",
       "      <th>2</th>\n",
       "      <td>DDX11L1</td>\n",
       "      <td>13656</td>\n",
       "      <td>CAG</td>\n",
       "    </tr>\n",
       "    <tr>\n",
       "      <th>3</th>\n",
       "      <td>WASH7P</td>\n",
       "      <td>15211</td>\n",
       "      <td>T</td>\n",
       "    </tr>\n",
       "    <tr>\n",
       "      <th>4</th>\n",
       "      <td>OR4F5</td>\n",
       "      <td>69511</td>\n",
       "      <td>A</td>\n",
       "    </tr>\n",
       "  </tbody>\n",
       "</table>\n",
       "</div>"
      ],
      "text/plain": [
       "      gene    pos refNt\n",
       "0  DDX11L1  13273     G\n",
       "1  DDX11L1  13417     C\n",
       "2  DDX11L1  13656   CAG\n",
       "3   WASH7P  15211     T\n",
       "4    OR4F5  69511     A"
      ]
     },
     "execution_count": 18,
     "metadata": {
      "tags": []
     },
     "output_type": "execute_result"
    }
   ],
   "source": [
    "# a_priori test\n",
    "prop=(\"gene\",\"pos\",\"refNt\")\n",
    "apriori_common=len(e1[list(prop)])\n",
    "print(\"len(apriori_common)={}\".format(apriori_common))\n",
    "print(e1[list(prop)].values[:5])\n",
    "e1[list(prop)].head(5)"
   ]
  },
  {
   "cell_type": "code",
   "execution_count": null,
   "metadata": {
    "colab": {
     "base_uri": "https://localhost:8080/",
     "height": 52
    },
    "id": "e-jIi5u1GU8B",
    "outputId": "807abedc-3174-470e-dd4b-11c75848bce6"
   },
   "outputs": [
    {
     "name": "stdout",
     "output_type": "stream",
     "text": [
      "13076\n",
      "7222\n"
     ]
    }
   ],
   "source": [
    "A=frozenset(tuple(u) for u in extract_tuples(e1)[1])\n",
    "B=frozenset(tuple(u) for u in extract_tuples(e2)[1])\n",
    "C=frozenset(tuple(u) for u in extract_tuples(e3)[1])\n",
    "z=A.intersection(B,C)\n",
    "print(len(z))\n",
    "y=len((A&C)-B)\n",
    "print(y)"
   ]
  },
  {
   "cell_type": "code",
   "execution_count": null,
   "metadata": {
    "colab": {
     "base_uri": "https://localhost:8080/",
     "height": 86
    },
    "id": "ZmrZ3dIOptWE",
    "outputId": "eb43dd16-d88a-49ca-b154-e834b8cba919"
   },
   "outputs": [
    {
     "name": "stdout",
     "output_type": "stream",
     "text": [
      "<class 'pandas.core.frame.DataFrame'>\n",
      "<class 'pandas.core.frame.DataFrame'>\n",
      "13086\n",
      "13076\n"
     ]
    }
   ],
   "source": [
    "# proving the triplets actually match in the analysed case (z)\n",
    "aux1=e1[[\"chr\",\"gene\",\"pos\",\"refNt\"]]\n",
    "print(type(aux1))\n",
    "aux1=aux1[aux1['chr']=='1']\n",
    "print(type(aux1))\n",
    "print(len(aux1))\n",
    "aux1=aux1[[\"gene\",\"pos\",\"refNt\"]].values\n",
    "aux1=frozenset(tuple(u) for u in aux1)\n",
    "print(len(aux1))"
   ]
  },
  {
   "cell_type": "markdown",
   "metadata": {
    "id": "8Q1tvaHrni_6"
   },
   "source": [
    "## Time test"
   ]
  },
  {
   "cell_type": "code",
   "execution_count": null,
   "metadata": {
    "colab": {
     "base_uri": "https://localhost:8080/",
     "height": 34
    },
    "id": "7wM9MptZljlo",
    "outputId": "d2622357-d771-41f7-c0b1-1d1fd7bcae45"
   },
   "outputs": [
    {
     "name": "stdout",
     "output_type": "stream",
     "text": [
      "10 loops, best of 5: 107 ms per loop\n"
     ]
    }
   ],
   "source": [
    "# time test\n",
    "%timeit -n 10 -r 5 extract_tuples(e1)"
   ]
  },
  {
   "cell_type": "code",
   "execution_count": null,
   "metadata": {
    "colab": {
     "base_uri": "https://localhost:8080/",
     "height": 34
    },
    "id": "qUhcWXRuu--7",
    "outputId": "2313db6a-3f3d-4b8f-994d-344a8e3b7cc7"
   },
   "outputs": [
    {
     "name": "stdout",
     "output_type": "stream",
     "text": [
      "10 loops, best of 5: 12.1 ms per loop\n"
     ]
    }
   ],
   "source": [
    "%timeit -n 10 -r 5 extract_tuples_pro(e1)"
   ]
  },
  {
   "cell_type": "markdown",
   "metadata": {
    "id": "0n1haWOoh3qT"
   },
   "source": [
    "As a conclusion, the function *extract_list_pro* spent about 10% of the time spent by the *extract_tuples* function "
   ]
  },
  {
   "cell_type": "markdown",
   "metadata": {
    "id": "so-PkMwPUnst"
   },
   "source": [
    "# Extending to the real case"
   ]
  },
  {
   "cell_type": "code",
   "execution_count": null,
   "metadata": {
    "id": "i23ZWnxCUwp1"
   },
   "outputs": [],
   "source": [
    "e1=pd.read_csv(data_dir+'COL1541-V4-2.csv',low_memory=0) #father\n",
    "e2=pd.read_csv(data_dir+'COL1539-V4-2.csv',low_memory=0) #mother\n",
    "e3=pd.read_csv(data_dir+'COL1538-V4-2.csv',low_memory=0) #child"
   ]
  },
  {
   "cell_type": "markdown",
   "metadata": {
    "id": "bUdERjNWUZ55"
   },
   "source": [
    "## Example 1: prop=(\"gene\",\"pos\",\"refNt\") triplet\n",
    "\n",
    "There is no need to call prop=(\"gene\",\"pos\",\"refNt\") as this is a default argument of the *subset* function."
   ]
  },
  {
   "cell_type": "code",
   "execution_count": null,
   "metadata": {
    "colab": {
     "base_uri": "https://localhost:8080/",
     "height": 466
    },
    "id": "LZKWZwmkN6GI",
    "outputId": "b9c0858e-6b2e-4fbf-83ec-194e80f16258"
   },
   "outputs": [
    {
     "data": {
      "image/png": "[encoded data removed]",
      "text/plain": [
       "<Figure size 720x576 with 1 Axes>"
      ]
     },
     "metadata": {
      "tags": []
     },
     "output_type": "display_data"
    }
   ],
   "source": [
    "r=subset(e1,e2,e3)\n",
    "venn(r,Vtags=(\"Parent(A) : Symptomatic\",\"Parent(B) : Asymptomatic\",\"Child(C) : Symptomatic\"))#217997"
   ]
  },
  {
   "cell_type": "markdown",
   "metadata": {
    "id": "lkqFamDBEm2J"
   },
   "source": [
    "### Data$\\rightarrow$DataFrame"
   ]
  },
  {
   "cell_type": "markdown",
   "metadata": {
    "id": "3kweVN0W7PTj"
   },
   "source": [
    "Because each subset is formed of unique tuples the DataFrame constructor must be used (then if desired, convert it to excel.\n",
    "Also to alocate the desired subset, the id displayed in the section **Example 1** must be used as a key to access every element of the dictionary."
   ]
  },
  {
   "cell_type": "code",
   "execution_count": null,
   "metadata": {
    "colab": {
     "base_uri": "https://localhost:8080/",
     "height": 206
    },
    "id": "zlFcmxha43DS",
    "outputId": "35713bc5-95b1-4115-efd8-07c3a99e5868"
   },
   "outputs": [
    {
     "data": {
      "text/html": [
       "<div>\n",
       "<style scoped>\n",
       "    .dataframe tbody tr th:only-of-type {\n",
       "        vertical-align: middle;\n",
       "    }\n",
       "\n",
       "    .dataframe tbody tr th {\n",
       "        vertical-align: top;\n",
       "    }\n",
       "\n",
       "    .dataframe thead th {\n",
       "        text-align: right;\n",
       "    }\n",
       "</style>\n",
       "<table border=\"1\" class=\"dataframe\">\n",
       "  <thead>\n",
       "    <tr style=\"text-align: right;\">\n",
       "      <th></th>\n",
       "      <th>gene</th>\n",
       "      <th>pos</th>\n",
       "      <th>refNt</th>\n",
       "    </tr>\n",
       "  </thead>\n",
       "  <tbody>\n",
       "    <tr>\n",
       "      <th>0</th>\n",
       "      <td>HAUS6</td>\n",
       "      <td>19086979</td>\n",
       "      <td>C</td>\n",
       "    </tr>\n",
       "    <tr>\n",
       "      <th>1</th>\n",
       "      <td>CMAHP</td>\n",
       "      <td>25106745</td>\n",
       "      <td>A</td>\n",
       "    </tr>\n",
       "    <tr>\n",
       "      <th>2</th>\n",
       "      <td>CCDC88C</td>\n",
       "      <td>91751808</td>\n",
       "      <td>G</td>\n",
       "    </tr>\n",
       "    <tr>\n",
       "      <th>3</th>\n",
       "      <td>MTMR12</td>\n",
       "      <td>32242381</td>\n",
       "      <td>G</td>\n",
       "    </tr>\n",
       "    <tr>\n",
       "      <th>4</th>\n",
       "      <td>RHO</td>\n",
       "      <td>129247526</td>\n",
       "      <td>G</td>\n",
       "    </tr>\n",
       "  </tbody>\n",
       "</table>\n",
       "</div>"
      ],
      "text/plain": [
       "      gene        pos refNt\n",
       "0    HAUS6   19086979     C\n",
       "1    CMAHP   25106745     A\n",
       "2  CCDC88C   91751808     G\n",
       "3   MTMR12   32242381     G\n",
       "4      RHO  129247526     G"
      ]
     },
     "execution_count": 25,
     "metadata": {
      "tags": []
     },
     "output_type": "execute_result"
    }
   ],
   "source": [
    "prop=(\"gene\",\"pos\",\"refNt\")\n",
    "pd.DataFrame(r[\"111\"],columns=prop).head(5)"
   ]
  },
  {
   "cell_type": "markdown",
   "metadata": {
    "id": "hgOB1TI-DZI8"
   },
   "source": [
    "### Testing"
   ]
  },
  {
   "cell_type": "code",
   "execution_count": null,
   "metadata": {
    "colab": {
     "base_uri": "https://localhost:8080/",
     "height": 52
    },
    "id": "qz1PImwOYQwY",
    "outputId": "7169d62b-a1dc-42e2-e993-4f94e52f6a15"
   },
   "outputs": [
    {
     "name": "stdout",
     "output_type": "stream",
     "text": [
      "len(r['101'])=26567\n",
      "len(r['101']&r['001'])=0\n"
     ]
    }
   ],
   "source": [
    "print(f\"len(r['101'])={len(r['101'])}\")\n",
    "print(f\"len(r['101']&r['001'])={len(r['100'].intersection(r['001']))}\")"
   ]
  },
  {
   "cell_type": "markdown",
   "metadata": {
    "id": "PVfHmMcRyd9e"
   },
   "source": [
    "Note that len(r['101']&r['001'])=0 makes sense due to the fact that the subsets are already separed"
   ]
  },
  {
   "cell_type": "code",
   "execution_count": null,
   "metadata": {
    "colab": {
     "base_uri": "https://localhost:8080/",
     "height": 269
    },
    "id": "9YHxEunfYckv",
    "outputId": "49483579-a3c5-45b8-e694-82f06ea2715c"
   },
   "outputs": [
    {
     "data": {
      "text/plain": [
       "<matplotlib_venn._common.VennDiagram at 0x7ff1ee45bd68>"
      ]
     },
     "execution_count": 27,
     "metadata": {
      "tags": []
     },
     "output_type": "execute_result"
    },
    {
     "data": {
      "image/png": "[encoded data removed]",
      "text/plain": [
       "<Figure size 432x288 with 1 Axes>"
      ]
     },
     "metadata": {
      "tags": []
     },
     "output_type": "display_data"
    }
   ],
   "source": [
    "# testing subset function with Venn diagram 'created' from scratch \n",
    "At=frozenset(tuple(m) for m in extract_tuples_pro(e1))\n",
    "Bt=frozenset(tuple(m) for m in extract_tuples_pro(e2))\n",
    "Ct=frozenset(tuple(m) for m in extract_tuples_pro(e3))\n",
    "a=((At.difference(Bt)).difference(Ct))             #001\n",
    "b=((Bt.difference(At)).difference(Ct))             #010\n",
    "c=((Ct.difference(Bt)).difference(At))             #100\n",
    "y=((At.intersection(Ct)).difference(Bt))           #101\n",
    "w=((At.intersection(Bt)).difference(Ct))           #011\n",
    "x=((Bt.intersection(Ct)).difference(At))           #110\n",
    "z=At.intersection(Bt,Ct)                           #111\n",
    "venn3(subsets=[len(i) for i in [a,b,w,c,y,x,z]])"
   ]
  },
  {
   "cell_type": "markdown",
   "metadata": {
    "id": "1TA7KY4ZLpv5"
   },
   "source": [
    "## Example 2: Custom *prop* parameter\n",
    "Setting prop=(\"gene\") will establish a different filter for the analysis "
   ]
  },
  {
   "cell_type": "code",
   "execution_count": null,
   "metadata": {
    "colab": {
     "base_uri": "https://localhost:8080/",
     "height": 466
    },
    "id": "FoJvXs9t7LSl",
    "outputId": "5c842c97-ecae-4d08-a4a9-25099f97209d"
   },
   "outputs": [
    {
     "data": {
      "image/png": "[encoded data removed]",
      "text/plain": [
       "<Figure size 720x576 with 1 Axes>"
      ]
     },
     "metadata": {
      "tags": []
     },
     "output_type": "display_data"
    }
   ],
   "source": [
    "r2=subset(e1,e2,e3,prop=(\"gene\",))\n",
    "venn(r2,Vtags=(\"Parent(A) : Symptomatic\",\"Parent(B) : Asymptomatic\",\"Child(C) : Symptomatic\"))"
   ]
  },
  {
   "cell_type": "markdown",
   "metadata": {
    "id": "KeUBPIGtmC06"
   },
   "source": [
    "## Example 3: Custom *prop* parameter\n",
    "Setting prop=(\"pos\") will establish a different filter for the analysis"
   ]
  },
  {
   "cell_type": "code",
   "execution_count": null,
   "metadata": {
    "colab": {
     "base_uri": "https://localhost:8080/",
     "height": 466
    },
    "id": "KEiG6NdumHQs",
    "outputId": "5d76dabf-d530-4315-afa4-6d6469e39b29"
   },
   "outputs": [
    {
     "data": {
      "image/png": "[encoded data removed]",
      "text/plain": [
       "<Figure size 720x576 with 1 Axes>"
      ]
     },
     "metadata": {
      "tags": []
     },
     "output_type": "display_data"
    }
   ],
   "source": [
    "r3=subset(e1,e2,e3,prop=(\"pos\",))\n",
    "venn(r3,Vtags=(\"Parent(A) : Symptomatic\",\"Parent(B) : Asymptomatic\",\"Child(C) : Symptomatic\"))#217906"
   ]
  },
  {
   "cell_type": "markdown",
   "metadata": {
    "id": "S2Ovipoam6lV"
   },
   "source": [
    "## Example 4: Custom *prop* parameter"
   ]
  },
  {
   "cell_type": "code",
   "execution_count": null,
   "metadata": {
    "colab": {
     "base_uri": "https://localhost:8080/",
     "height": 466
    },
    "id": "sbO1NnoZnFsH",
    "outputId": "e49955b9-d432-42d0-945b-0de067eb76e6"
   },
   "outputs": [
    {
     "data": {
      "image/png": "[encoded data removed]",
      "text/plain": [
       "<Figure size 720x576 with 1 Axes>"
      ]
     },
     "metadata": {
      "tags": []
     },
     "output_type": "display_data"
    }
   ],
   "source": [
    "r4=subset(e1,e2,e3,prop=(\"gene\",\"pos\",\"refNt\",\"altNt\"))\n",
    "venn(r4,Vtags=(\"Parent(A) : Symptomatic\",\"Parent(B) : Asymptomatic\",\"Child(C) : Symptomatic\"))#218853"
   ]
  },
  {
   "cell_type": "markdown",
   "metadata": {
    "id": "Vph4Eye3q8cU"
   },
   "source": [
    "### Data $\\rightarrow$ DataFrame"
   ]
  },
  {
   "cell_type": "code",
   "execution_count": null,
   "metadata": {
    "colab": {
     "base_uri": "https://localhost:8080/",
     "height": 206
    },
    "id": "8AOsu7o4rGFH",
    "outputId": "5fea5fee-6d4d-48e9-e55e-5682420379dc"
   },
   "outputs": [
    {
     "data": {
      "text/html": [
       "<div>\n",
       "<style scoped>\n",
       "    .dataframe tbody tr th:only-of-type {\n",
       "        vertical-align: middle;\n",
       "    }\n",
       "\n",
       "    .dataframe tbody tr th {\n",
       "        vertical-align: top;\n",
       "    }\n",
       "\n",
       "    .dataframe thead th {\n",
       "        text-align: right;\n",
       "    }\n",
       "</style>\n",
       "<table border=\"1\" class=\"dataframe\">\n",
       "  <thead>\n",
       "    <tr style=\"text-align: right;\">\n",
       "      <th></th>\n",
       "      <th>gene</th>\n",
       "      <th>pos</th>\n",
       "      <th>refNt</th>\n",
       "      <th>altNt</th>\n",
       "    </tr>\n",
       "  </thead>\n",
       "  <tbody>\n",
       "    <tr>\n",
       "      <th>0</th>\n",
       "      <td>ADCY8</td>\n",
       "      <td>131880292</td>\n",
       "      <td>T</td>\n",
       "      <td>A</td>\n",
       "    </tr>\n",
       "    <tr>\n",
       "      <th>1</th>\n",
       "      <td>HDHD1</td>\n",
       "      <td>6976113</td>\n",
       "      <td>C</td>\n",
       "      <td>T</td>\n",
       "    </tr>\n",
       "    <tr>\n",
       "      <th>2</th>\n",
       "      <td>ATP2B2</td>\n",
       "      <td>10400253</td>\n",
       "      <td>C</td>\n",
       "      <td>T</td>\n",
       "    </tr>\n",
       "    <tr>\n",
       "      <th>3</th>\n",
       "      <td>LHB</td>\n",
       "      <td>49519855</td>\n",
       "      <td>T</td>\n",
       "      <td>G</td>\n",
       "    </tr>\n",
       "    <tr>\n",
       "      <th>4</th>\n",
       "      <td>NRK</td>\n",
       "      <td>105132142</td>\n",
       "      <td>C</td>\n",
       "      <td>A</td>\n",
       "    </tr>\n",
       "  </tbody>\n",
       "</table>\n",
       "</div>"
      ],
      "text/plain": [
       "     gene        pos refNt altNt\n",
       "0   ADCY8  131880292     T     A\n",
       "1   HDHD1    6976113     C     T\n",
       "2  ATP2B2   10400253     C     T\n",
       "3     LHB   49519855     T     G\n",
       "4     NRK  105132142     C     A"
      ]
     },
     "execution_count": 31,
     "metadata": {
      "tags": []
     },
     "output_type": "execute_result"
    }
   ],
   "source": [
    "prop2=(\"gene\",\"pos\",\"refNt\",\"altNt\")\n",
    "pato=pd.DataFrame(r4[\"101\"],columns=prop2).head(5)\n",
    "pato"
   ]
  },
  {
   "cell_type": "code",
   "execution_count": null,
   "metadata": {
    "colab": {
     "base_uri": "https://localhost:8080/",
     "height": 34
    },
    "id": "rr7X6dp4raEW",
    "outputId": "4c5d6e6f-30d7-40d4-a11b-b3f48c5be064"
   },
   "outputs": [
    {
     "data": {
      "text/plain": [
       "',gene,pos,refNt,altNt\\n0,ADCY8,131880292,T,A\\n1,HDHD1,6976113,C,T\\n2,ATP2B2,10400253,C,T\\n3,LHB,49519855,T,G\\n4,NRK,105132142,C,A\\n'"
      ]
     },
     "execution_count": 32,
     "metadata": {
      "tags": []
     },
     "output_type": "execute_result"
    }
   ],
   "source": [
    "pato.to_csv()"
   ]
  },
  {
   "cell_type": "markdown",
   "metadata": {
    "id": "NjvH1ZEpPS_i"
   },
   "source": [
    "# Application: Comparison between exomes analysis"
   ]
  },
  {
   "cell_type": "code",
   "execution_count": null,
   "metadata": {
    "colab": {
     "base_uri": "https://localhost:8080/",
     "height": 466
    },
    "id": "LX05l0d8PnYH",
    "outputId": "da58ad1b-ef1a-45b1-9467-dbb0aab515f1"
   },
   "outputs": [
    {
     "data": {
      "image/png": "[encoded data removed]",
      "text/plain": [
       "<Figure size 720x576 with 1 Axes>"
      ]
     },
     "metadata": {
      "tags": []
     },
     "output_type": "display_data"
    }
   ],
   "source": [
    "#loading files\n",
    "A=pd.read_csv(root_dir+'data-us/COL1541.V4.2.gnomGN_0.05.csv',low_memory=0) #father\n",
    "B=pd.read_csv(root_dir+'data-us/COL1539.V4.2.gnomGN_0.05.csv',low_memory=0) #mother\n",
    "C=pd.read_csv(root_dir+'data-us/COL1538.V4.2.gnomGN_0.05.csv',low_memory=0) #child\n",
    "#plotting venn\n",
    "prop_=(\"gene\",\"pos\",\"refNt\",\"altNt\")#illustrative\n",
    "QQ=subset(A,B,C,prop=prop_)\n",
    "venn(QQ,Vtags=(\"Parent A (COL1541)\",\"Parent B (COL1539)\",\"Child C (COL1538)\"))"
   ]
  },
  {
   "cell_type": "markdown",
   "metadata": {
    "id": "uDJx4OdZRfjf"
   },
   "source": [
    "### Data $\\rightarrow$ DataFrame"
   ]
  },
  {
   "cell_type": "code",
   "execution_count": null,
   "metadata": {
    "colab": {
     "base_uri": "https://localhost:8080/",
     "height": 363
    },
    "id": "XgeI94-cRiYv",
    "outputId": "20caedb9-5e7f-4d20-e6ad-270b0e4b26e0"
   },
   "outputs": [
    {
     "data": {
      "text/html": [
       "<div>\n",
       "<style scoped>\n",
       "    .dataframe tbody tr th:only-of-type {\n",
       "        vertical-align: middle;\n",
       "    }\n",
       "\n",
       "    .dataframe tbody tr th {\n",
       "        vertical-align: top;\n",
       "    }\n",
       "\n",
       "    .dataframe thead th {\n",
       "        text-align: right;\n",
       "    }\n",
       "</style>\n",
       "<table border=\"1\" class=\"dataframe\">\n",
       "  <thead>\n",
       "    <tr style=\"text-align: right;\">\n",
       "      <th></th>\n",
       "      <th>gene</th>\n",
       "      <th>pos</th>\n",
       "      <th>refNt</th>\n",
       "      <th>altNt</th>\n",
       "    </tr>\n",
       "  </thead>\n",
       "  <tbody>\n",
       "    <tr>\n",
       "      <th>0</th>\n",
       "      <td>PTGER4P2</td>\n",
       "      <td>66499841</td>\n",
       "      <td>T</td>\n",
       "      <td>C</td>\n",
       "    </tr>\n",
       "    <tr>\n",
       "      <th>1</th>\n",
       "      <td>HLA-DQB1</td>\n",
       "      <td>32633009</td>\n",
       "      <td>T</td>\n",
       "      <td>C</td>\n",
       "    </tr>\n",
       "    <tr>\n",
       "      <th>2</th>\n",
       "      <td>ZNF596</td>\n",
       "      <td>194612</td>\n",
       "      <td>A</td>\n",
       "      <td>T</td>\n",
       "    </tr>\n",
       "    <tr>\n",
       "      <th>3</th>\n",
       "      <td>ZNF766</td>\n",
       "      <td>52786700</td>\n",
       "      <td>CT</td>\n",
       "      <td>C</td>\n",
       "    </tr>\n",
       "    <tr>\n",
       "      <th>4</th>\n",
       "      <td>BRWD1</td>\n",
       "      <td>40636351</td>\n",
       "      <td>C</td>\n",
       "      <td>T</td>\n",
       "    </tr>\n",
       "    <tr>\n",
       "      <th>5</th>\n",
       "      <td>NaN</td>\n",
       "      <td>10793861</td>\n",
       "      <td>A</td>\n",
       "      <td>G</td>\n",
       "    </tr>\n",
       "    <tr>\n",
       "      <th>6</th>\n",
       "      <td>HLA-DRB5</td>\n",
       "      <td>32497885</td>\n",
       "      <td>C</td>\n",
       "      <td>T</td>\n",
       "    </tr>\n",
       "    <tr>\n",
       "      <th>7</th>\n",
       "      <td>LINC00273</td>\n",
       "      <td>33965672</td>\n",
       "      <td>C</td>\n",
       "      <td>T</td>\n",
       "    </tr>\n",
       "    <tr>\n",
       "      <th>8</th>\n",
       "      <td>TRBV6-1</td>\n",
       "      <td>142028106</td>\n",
       "      <td>C</td>\n",
       "      <td>G</td>\n",
       "    </tr>\n",
       "    <tr>\n",
       "      <th>9</th>\n",
       "      <td>CDC42BPG</td>\n",
       "      <td>64594099</td>\n",
       "      <td>T</td>\n",
       "      <td>G</td>\n",
       "    </tr>\n",
       "  </tbody>\n",
       "</table>\n",
       "</div>"
      ],
      "text/plain": [
       "        gene        pos refNt altNt\n",
       "0   PTGER4P2   66499841     T     C\n",
       "1   HLA-DQB1   32633009     T     C\n",
       "2     ZNF596     194612     A     T\n",
       "3     ZNF766   52786700    CT     C\n",
       "4      BRWD1   40636351     C     T\n",
       "5        NaN   10793861     A     G\n",
       "6   HLA-DRB5   32497885     C     T\n",
       "7  LINC00273   33965672     C     T\n",
       "8    TRBV6-1  142028106     C     G\n",
       "9   CDC42BPG   64594099     T     G"
      ]
     },
     "execution_count": 39,
     "metadata": {
      "tags": []
     },
     "output_type": "execute_result"
    }
   ],
   "source": [
    "duck=pd.DataFrame(QQ[\"011\"],columns=prop_).head(10)\n",
    "duck"
   ]
  }
 ],
 "metadata": {
  "colab": {
   "collapsed_sections": [],
   "name": "trio.ipynb",
   "provenance": [],
   "toc_visible": true
  },
  "kernelspec": {
   "display_name": "Python 3 (ipykernel)",
   "language": "python",
   "name": "python3"
  },
  "language_info": {
   "codemirror_mode": {
    "name": "ipython",
    "version": 3
   },
   "file_extension": ".py",
   "mimetype": "text/x-python",
   "name": "python",
   "nbconvert_exporter": "python",
   "pygments_lexer": "ipython3",
   "version": "3.8.10"
  },
  "toc": {
   "base_numbering": 1,
   "nav_menu": {},
   "number_sections": true,
   "sideBar": true,
   "skip_h1_title": false,
   "title_cell": "Table of Contents",
   "title_sidebar": "Contents",
   "toc_cell": false,
   "toc_position": {},
   "toc_section_display": true,
   "toc_window_display": false
  }
 },
 "nbformat": 4,
 "nbformat_minor": 1
}
